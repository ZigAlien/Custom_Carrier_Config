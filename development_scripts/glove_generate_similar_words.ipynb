{
  "nbformat": 4,
  "nbformat_minor": 0,
  "metadata": {
    "colab": {
      "name": "glove generate similar words.ipynb",
      "provenance": [],
      "authorship_tag": "ABX9TyNW3k3zaORvSCn5thQ+bWSw",
      "include_colab_link": true
    },
    "kernelspec": {
      "name": "python3",
      "display_name": "Python 3"
    },
    "language_info": {
      "name": "python"
    },
    "gpuClass": "standard"
  },
  "cells": [
    {
      "cell_type": "markdown",
      "metadata": {
        "id": "view-in-github",
        "colab_type": "text"
      },
      "source": [
        "<a href=\"https://colab.research.google.com/github/ZigAlien/Custom_Carrier_Config/blob/master/development_scripts/glove_generate_similar_words.ipynb\" target=\"_parent\"><img src=\"https://colab.research.google.com/assets/colab-badge.svg\" alt=\"Open In Colab\"/></a>"
      ]
    },
    {
      "cell_type": "code",
      "source": [
        "import gc"
      ],
      "metadata": {
        "id": "PY_dehDvAjKq"
      },
      "execution_count": null,
      "outputs": []
    },
    {
      "cell_type": "markdown",
      "source": [
        "# Load pretrained KeyedVectors\n"
      ],
      "metadata": {
        "id": "1kgFu5Zr-HzX"
      }
    },
    {
      "cell_type": "markdown",
      "source": [
        "Using GoogleNews 300d vectors (3.4GB size file)\n",
        "\n",
        "source for setup code: https://colab.research.google.com/github/keras-team/keras-io/blob/master/examples/nlp/ipynb/pretrained_word_embeddings.ipynb#scrollTo=7pIeaoJtvQsr"
      ],
      "metadata": {
        "id": "eAcWLLrYFzPi"
      }
    },
    {
      "cell_type": "code",
      "source": [
        "from google.colab import drive\n",
        "drive.mount('/content/drive')\n",
        "gdrive_path = '/content/drive/My Drive/SURF 22'\n",
        "%cd {gdrive_path}"
      ],
      "metadata": {
        "colab": {
          "base_uri": "https://localhost:8080/"
        },
        "id": "wBLTt6cjtpmj",
        "outputId": "1fade91f-fa65-4a35-ab5b-4350ac885fa8"
      },
      "execution_count": null,
      "outputs": [
        {
          "output_type": "stream",
          "name": "stdout",
          "text": [
            "Drive already mounted at /content/drive; to attempt to forcibly remount, call drive.mount(\"/content/drive\", force_remount=True).\n",
            "/content/drive/My Drive/SURF 22\n"
          ]
        }
      ]
    },
    {
      "cell_type": "code",
      "source": [
        "!pip install wget==3.2\n",
        "!pip install gensim==3.6.0\n",
        "!pip install psutil==5.4.8"
      ],
      "metadata": {
        "colab": {
          "base_uri": "https://localhost:8080/"
        },
        "id": "55_1Pfx0wK7O",
        "outputId": "6beb6930-c066-44c5-aaa7-c9877f28ce73"
      },
      "execution_count": null,
      "outputs": [
        {
          "output_type": "stream",
          "name": "stdout",
          "text": [
            "Looking in indexes: https://pypi.org/simple, https://us-python.pkg.dev/colab-wheels/public/simple/\n",
            "Requirement already satisfied: wget==3.2 in /usr/local/lib/python3.7/dist-packages (3.2)\n",
            "Looking in indexes: https://pypi.org/simple, https://us-python.pkg.dev/colab-wheels/public/simple/\n",
            "Requirement already satisfied: gensim==3.6.0 in /usr/local/lib/python3.7/dist-packages (3.6.0)\n",
            "Requirement already satisfied: numpy>=1.11.3 in /usr/local/lib/python3.7/dist-packages (from gensim==3.6.0) (1.21.6)\n",
            "Requirement already satisfied: scipy>=0.18.1 in /usr/local/lib/python3.7/dist-packages (from gensim==3.6.0) (1.4.1)\n",
            "Requirement already satisfied: six>=1.5.0 in /usr/local/lib/python3.7/dist-packages (from gensim==3.6.0) (1.15.0)\n",
            "Requirement already satisfied: smart-open>=1.2.1 in /usr/local/lib/python3.7/dist-packages (from gensim==3.6.0) (5.2.1)\n",
            "Looking in indexes: https://pypi.org/simple, https://us-python.pkg.dev/colab-wheels/public/simple/\n",
            "Requirement already satisfied: psutil==5.4.8 in /usr/local/lib/python3.7/dist-packages (5.4.8)\n"
          ]
        }
      ]
    },
    {
      "cell_type": "code",
      "source": [
        "import os\n",
        "import wget\n",
        "import gzip\n",
        "import shutil"
      ],
      "metadata": {
        "id": "mK6BA1SOWT-N"
      },
      "execution_count": null,
      "outputs": []
    },
    {
      "cell_type": "code",
      "source": [
        "# !wget http://nlp.stanford.edu/data/glove.6B.zip\n",
        "# !unzip -q glove*.zip"
      ],
      "metadata": {
        "id": "FWu6gEh9uIUj"
      },
      "execution_count": null,
      "outputs": []
    },
    {
      "cell_type": "code",
      "source": [
        "gn_vec_path = \"GoogleNews-vectors-negative300.bin\"\n",
        "if not os.path.exists(\"GoogleNews-vectors-negative300.bin\"):\n",
        "    if not os.path.exists(\"../Ch2/GoogleNews-vectors-negative300.bin\"):\n",
        "        #Downloading the reqired model\n",
        "        if not os.path.exists(\"../Ch2/GoogleNews-vectors-negative300.bin.gz\"):\n",
        "            if not os.path.exists(\"GoogleNews-vectors-negative300.bin.gz\"):\n",
        "                wget.download(\"https://s3.amazonaws.com/dl4j-distribution/GoogleNews-vectors-negative300.bin.gz\")\n",
        "            gn_vec_zip_path = \"GoogleNews-vectors-negative300.bin.gz\"\n",
        "        else:\n",
        "            gn_vec_zip_path = \"../Ch2/GoogleNews-vectors-negative300.bin.gz\"\n",
        "        #Extracting the required model\n",
        "        with gzip.open(gn_vec_zip_path, 'rb') as f_in:\n",
        "            with open(gn_vec_path, 'wb') as f_out:\n",
        "                shutil.copyfileobj(f_in, f_out)\n",
        "    else:\n",
        "        gn_vec_path = \"../Ch2/\" + gn_vec_path\n",
        "\n",
        "print(f\"Model at {gn_vec_path}\")"
      ],
      "metadata": {
        "colab": {
          "base_uri": "https://localhost:8080/"
        },
        "id": "WL224ANgx7C4",
        "outputId": "b4fec3c4-579d-441e-ac7e-a9210d76370f"
      },
      "execution_count": null,
      "outputs": [
        {
          "output_type": "stream",
          "name": "stdout",
          "text": [
            "Model at GoogleNews-vectors-negative300.bin\n"
          ]
        }
      ]
    },
    {
      "cell_type": "code",
      "source": [
        "import warnings #This module ignores the various types of warnings generated\n",
        "warnings.filterwarnings(\"ignore\") \n",
        "\n",
        "import psutil #This module helps in retrieving information on running processes and system resource utilization\n",
        "process = psutil.Process(os.getpid())\n",
        "from psutil import virtual_memory\n",
        "mem = virtual_memory()\n",
        "\n",
        "import time #This module is used to calculate the time  "
      ],
      "metadata": {
        "id": "BN1vjR1-1pVM"
      },
      "execution_count": null,
      "outputs": []
    },
    {
      "cell_type": "code",
      "source": [
        "# Load model from word2vec C format (GoogleNews-vectors-negative300.bin file)\n",
        "from gensim.models import Word2Vec, KeyedVectors\n",
        "pretrainedpath = gn_vec_path\n",
        "\n",
        "#Load W2V model. This will take some time, but it is a one time effort! \n",
        "pre = process.memory_info().rss\n",
        "print(\"Memory used in GB before Loading the Model: %0.2f\"%float(pre/(10**9))) #Check memory usage before loading the model\n",
        "print('-'*10)\n",
        "\n",
        "start_time = time.time() #Start the timer\n",
        "ttl = mem.total #Toal memory available\n",
        "\n",
        "w2v_model = KeyedVectors.load_word2vec_format(pretrainedpath, binary=True) #load the model\n",
        "print(\"%0.2f seconds taken to load\"%float(time.time() - start_time)) #Calculate the total time elapsed since starting the timer\n",
        "print('-'*10)\n",
        "\n",
        "print('Finished loading Word2Vec')\n",
        "print('-'*10)\n",
        "\n",
        "post = process.memory_info().rss\n",
        "print(\"Memory used in GB after Loading the Model: {:.2f}\".format(float(post/(10**9)))) #Calculate the memory used after loading the model\n",
        "print('-'*10)\n",
        "\n",
        "print(\"Percentage increase in memory usage: {:.2f}% \".format(float((post/pre)*100))) #Percentage increase in memory after loading the model\n",
        "print('-'*10)\n",
        "\n",
        "print(\"Number of words in vocablulary: \",len(w2v_model.vocab)) #Number of words in the vocabulary. \n",
        "\n",
        "# w2v_model.save(\"word2vec.wordvectors\")"
      ],
      "metadata": {
        "colab": {
          "base_uri": "https://localhost:8080/"
        },
        "id": "xT08Ahst1HXE",
        "outputId": "fe73b9fc-3ab5-497e-8778-a64edb0b9f12"
      },
      "execution_count": null,
      "outputs": [
        {
          "output_type": "stream",
          "name": "stdout",
          "text": [
            "Memory used in GB before Loading the Model: 0.15\n",
            "----------\n",
            "64.96 seconds taken to load\n",
            "----------\n",
            "Finished loading Word2Vec\n",
            "----------\n",
            "Memory used in GB after Loading the Model: 5.08\n",
            "----------\n",
            "Percentage increase in memory usage: 3372.73% \n",
            "----------\n",
            "Number of words in vocablulary:  3000000\n"
          ]
        }
      ]
    },
    {
      "cell_type": "code",
      "source": [
        "# Or load model from saved word vector mappings\n",
        "\"\"\"\n",
        "from gensim.models import Word2Vec, KeyedVectors\n",
        "\n",
        "pre = process.memory_info().rss\n",
        "print(\"Memory used in GB before Loading the Model: %0.2f\"%float(pre/(10**9))) #Check memory usage before loading the model\n",
        "print('-'*10)\n",
        "start_time = time.time() #Start the timer\n",
        "ttl = mem.total #Toal memory available\n",
        "\n",
        "w2v_model = KeyedVectors.load(\"word2vec.wordvectors\")\n",
        "\n",
        "print(\"%0.2f seconds taken to load\"%float(time.time() - start_time)) #Calculate the total time elapsed since starting the timer\n",
        "print('-'*10)\n",
        "\n",
        "print('Finished loading Word2Vec')\n",
        "print('-'*10)\n",
        "\n",
        "post = process.memory_info().rss\n",
        "print(\"Memory used in GB after Loading the Model: {:.2f}\".format(float(post/(10**9)))) #Calculate the memory used after loading the model\n",
        "print('-'*10)\n",
        "\n",
        "print(\"Percentage increase in memory usage: {:.2f}% \".format(float((post/pre)*100))) #Percentage increase in memory after loading the model\n",
        "print('-'*10)\n",
        "\n",
        "print(\"Number of words in vocablulary: \",len(wv.vocab)) #Number of words in the vocabulary. \n",
        "\"\"\""
      ],
      "metadata": {
        "colab": {
          "base_uri": "https://localhost:8080/"
        },
        "id": "L1GWeHIY_uWD",
        "outputId": "0887b8f6-0a71-453d-d869-5cc450a34cfc"
      },
      "execution_count": null,
      "outputs": [
        {
          "output_type": "stream",
          "name": "stdout",
          "text": [
            "Memory used in GB before Loading the Model: 0.15\n",
            "----------\n",
            "38.13 seconds taken to load\n",
            "----------\n",
            "Finished loading Word2Vec\n",
            "----------\n",
            "Memory used in GB after Loading the Model: 5.72\n",
            "----------\n",
            "Percentage increase in memory usage: 3922.94% \n",
            "----------\n",
            "Number of words in vocablulary:  3000000\n"
          ]
        }
      ]
    },
    {
      "cell_type": "markdown",
      "source": [
        "# Finding most similar words"
      ],
      "metadata": {
        "id": "UZMals1u-QBV"
      }
    },
    {
      "cell_type": "code",
      "source": [
        "w2v_model.most_similar([\"male\", \"man\", \"boy\", \"brother\", \"he\", \"him\", \"his\", \"son\"])"
      ],
      "metadata": {
        "id": "A1yI0X6-1yIx",
        "colab": {
          "base_uri": "https://localhost:8080/"
        },
        "outputId": "7dc2e569-11eb-464b-c39e-1c0b688be7b9"
      },
      "execution_count": null,
      "outputs": [
        {
          "output_type": "execute_result",
          "data": {
            "text/plain": [
              "[('father', 0.7367953062057495),\n",
              " ('nephew', 0.6985906362533569),\n",
              " ('uncle', 0.6795993447303772),\n",
              " ('teenager', 0.6657464504241943),\n",
              " ('younger_brother', 0.6547607779502869),\n",
              " ('stepfather', 0.6487184166908264),\n",
              " ('dad', 0.6387747526168823),\n",
              " ('youngster', 0.6285317540168762),\n",
              " ('girl', 0.625389575958252),\n",
              " ('stepson', 0.6239672899246216)]"
            ]
          },
          "metadata": {},
          "execution_count": 106
        }
      ]
    },
    {
      "cell_type": "code",
      "source": [
        "w2v_model.most_similar([\"female\", \"woman\", \"girl\", \"sister\", \"she\", \"her\", \"hers\", \"daughter\"])"
      ],
      "metadata": {
        "colab": {
          "base_uri": "https://localhost:8080/"
        },
        "id": "vvOf9hrVzXoo",
        "outputId": "c1becc60-56a5-42cd-8fb4-1f52744b0a58"
      },
      "execution_count": null,
      "outputs": [
        {
          "output_type": "execute_result",
          "data": {
            "text/plain": [
              "[('mother', 0.7888774871826172),\n",
              " ('niece', 0.7177736163139343),\n",
              " ('grandmother', 0.6789853572845459),\n",
              " ('herself', 0.6657507419586182),\n",
              " ('aunt', 0.6626481413841248),\n",
              " ('stepdaughter', 0.6559557914733887),\n",
              " ('teenage_girl', 0.6440446376800537),\n",
              " ('granddaughter', 0.6406126618385315),\n",
              " ('eldest_daughter', 0.6313638687133789),\n",
              " ('husband', 0.6293203234672546)]"
            ]
          },
          "metadata": {},
          "execution_count": 11
        }
      ]
    },
    {
      "cell_type": "code",
      "source": [
        "w2v_model.most_similar(positive=[\"male\", \"man\", \"boy\", \"brother\", \"he\", \"him\", \"his\", \"son\"], negative=[\"female\", \"woman\", \"girl\", \"sister\", \"she\", \"her\", \"hers\", \"daughter\"])"
      ],
      "metadata": {
        "colab": {
          "base_uri": "https://localhost:8080/"
        },
        "id": "qRL_Ph5WyfGe",
        "outputId": "a464d700-95d0-4689-c789-93e7394f5884"
      },
      "execution_count": null,
      "outputs": [
        {
          "output_type": "execute_result",
          "data": {
            "text/plain": [
              "[('himself', 0.3533194065093994),\n",
              " ('Felipe_Claybrooks', 0.35143256187438965),\n",
              " ('younger_brother', 0.3453552722930908),\n",
              " ('paralyzing_Jacksonville_Jaguars', 0.34222084283828735),\n",
              " ('countryman', 0.3344484269618988),\n",
              " ('elder_statesman', 0.3341074585914612),\n",
              " ('Bob_Skoronski', 0.33282995223999023),\n",
              " ('FSY', 0.328122079372406),\n",
              " ('Jon_Oosterhuis', 0.3265101909637451),\n",
              " ('journeyman', 0.3261284828186035)]"
            ]
          },
          "metadata": {},
          "execution_count": 10
        }
      ]
    },
    {
      "cell_type": "code",
      "source": [
        "w2v_model.most_similar('insects', topn=10)"
      ],
      "metadata": {
        "id": "Zw9Xgg5_2b07",
        "colab": {
          "base_uri": "https://localhost:8080/"
        },
        "outputId": "0acae030-39e5-4900-9c26-7748f8be9c8e"
      },
      "execution_count": null,
      "outputs": [
        {
          "output_type": "execute_result",
          "data": {
            "text/plain": [
              "[('insect', 0.8392233848571777),\n",
              " ('pests', 0.7680280804634094),\n",
              " ('beetles', 0.7659367322921753),\n",
              " ('caterpillars', 0.7642191648483276),\n",
              " ('wasps', 0.7446804642677307),\n",
              " ('aphids', 0.7398677468299866),\n",
              " ('moths', 0.7316640615463257),\n",
              " ('insect_pests', 0.7210251688957214),\n",
              " ('bees', 0.7179824113845825),\n",
              " ('ants', 0.7140018939971924)]"
            ]
          },
          "metadata": {},
          "execution_count": 18
        }
      ]
    },
    {
      "cell_type": "code",
      "source": [
        "w2v_model.most_similar([\"Brad\", \"Brendan\", \"Geoffrey\", \"Greg\", \"Brett\", \"Jay\", \"Matthew\", \"Neil\", \"Todd\", \"Allison\",\n",
        "                \"Anne\", \"Carrie\", \"Emily\", \"Jill\", \"Laurie\", \"Kristen\", \"Meredith\", \"Sarah\"])"
      ],
      "metadata": {
        "id": "KZNiFta82erM",
        "colab": {
          "base_uri": "https://localhost:8080/"
        },
        "outputId": "d2666ae9-86b6-4eeb-d3e9-ef5bf174b63c"
      },
      "execution_count": null,
      "outputs": [
        {
          "output_type": "execute_result",
          "data": {
            "text/plain": [
              "[('Alison', 0.8396396636962891),\n",
              " ('Julie', 0.833787202835083),\n",
              " ('Heather', 0.8288951516151428),\n",
              " ('Liz', 0.8237946629524231),\n",
              " ('Rebecca', 0.8199193477630615),\n",
              " ('Jennifer', 0.818217933177948),\n",
              " ('Amanda', 0.8179432153701782),\n",
              " ('Melissa', 0.8160792589187622),\n",
              " ('Christine', 0.8124417066574097),\n",
              " ('Brian', 0.8101809024810791)]"
            ]
          },
          "metadata": {},
          "execution_count": 28
        }
      ]
    },
    {
      "cell_type": "code",
      "source": [
        "w2v_model.most_similar([\"Darnell\", \"Hakim\", \"Jermaine\", \"Kareem\", \"Jamal\", \"Leroy\", \"Rasheed\", \"Tremayne\", \"Tyrone\",\n",
        "                \"Aisha\", \"Ebony\", \"Keisha\", \"Kenya\", \"Latonya\", \"Lakisha\", \"Latoya\", \"Tamika\", \"Tanisha\"])"
      ],
      "metadata": {
        "id": "66gdJJch2iSd",
        "colab": {
          "base_uri": "https://localhost:8080/"
        },
        "outputId": "8e0ccc78-c336-4484-ea15-f92565f23a6c"
      },
      "execution_count": null,
      "outputs": [
        {
          "output_type": "execute_result",
          "data": {
            "text/plain": [
              "[('Latrice', 0.7573091983795166),\n",
              " ('Latasha', 0.7481247186660767),\n",
              " ('Shaneka', 0.7470265626907349),\n",
              " ('Shameka', 0.7320626974105835),\n",
              " ('Tyesha', 0.7286354303359985),\n",
              " ('LaTanya', 0.7260358333587646),\n",
              " ('Shalonda', 0.7242222428321838),\n",
              " ('Iesha', 0.7242118716239929),\n",
              " ('Eboni', 0.7237764000892639),\n",
              " ('Deshawn', 0.7235666513442993)]"
            ]
          },
          "metadata": {},
          "execution_count": 30
        }
      ]
    },
    {
      "cell_type": "markdown",
      "source": [
        "# Upper/lowercase"
      ],
      "metadata": {
        "id": "k8N07K3lXgFE"
      }
    },
    {
      "cell_type": "code",
      "source": [
        "names = [\"Adam\", \"Harry\", \"Josh\", \"Roger\", \"Alan\", \"Frank\", \"Justin\", \"Ryan\", \"Andrew\", \"Jack\",\n",
        "                \"Matthew\", \"Stephen\", \"Brad\", \"Greg\", \"Paul\", \"Jonathan\", \"Peter\", \"Amanda\", \"Courtney\", \"Heather\", \"Melanie\",\n",
        "                \"Katie\", \"Betsy\", \"Kristin\", \"Nancy\", \"Stephanie\", \"Ellen\", \"Lauren\", \"Peggy\", \"Colleen\", \"Emily\", \"Megan\",\n",
        "                \"Rachel\"]\n",
        "names_lower = [name.lower() for name in names]"
      ],
      "metadata": {
        "id": "gngv0cAuEiW_"
      },
      "execution_count": null,
      "outputs": []
    },
    {
      "cell_type": "code",
      "source": [
        "w2v_model.most_similar(names)"
      ],
      "metadata": {
        "colab": {
          "base_uri": "https://localhost:8080/"
        },
        "id": "ipQpaWtCErdO",
        "outputId": "3544cc7b-f899-4527-d4da-1e4b844614e2"
      },
      "execution_count": null,
      "outputs": [
        {
          "output_type": "execute_result",
          "data": {
            "text/plain": [
              "[('Rebecca', 0.848922848701477),\n",
              " ('Sarah', 0.8479982614517212),\n",
              " ('Julie', 0.8416568636894226),\n",
              " ('Alison', 0.8392094373703003),\n",
              " ('Liz', 0.8374630212783813),\n",
              " ('Melissa', 0.8359388113021851),\n",
              " ('Christine', 0.8316525220870972),\n",
              " ('Kathryn', 0.8254125118255615),\n",
              " ('Jennifer', 0.8244088888168335),\n",
              " ('Amy', 0.8161377310752869)]"
            ]
          },
          "metadata": {},
          "execution_count": 28
        }
      ]
    },
    {
      "cell_type": "code",
      "source": [
        "w2v_model.most_similar(names_lower)"
      ],
      "metadata": {
        "colab": {
          "base_uri": "https://localhost:8080/"
        },
        "id": "vMiYrbf4E22N",
        "outputId": "8b9cc37f-34e9-4fc5-f445-fba6e3ecc544"
      },
      "execution_count": null,
      "outputs": [
        {
          "output_type": "execute_result",
          "data": {
            "text/plain": [
              "[('nigel', 0.8326540589332581),\n",
              " ('derek', 0.8260987997055054),\n",
              " ('adrian', 0.8235147595405579),\n",
              " ('becky', 0.8230024576187134),\n",
              " ('whitney', 0.8208194971084595),\n",
              " ('sarah', 0.8186067342758179),\n",
              " ('nikki', 0.8164323568344116),\n",
              " ('paula', 0.8158813118934631),\n",
              " ('armstrong', 0.8145674467086792),\n",
              " ('bryan', 0.8143181800842285)]"
            ]
          },
          "metadata": {},
          "execution_count": 32
        }
      ]
    },
    {
      "cell_type": "markdown",
      "source": [
        "# Generate similar words from json dataset and write to file"
      ],
      "metadata": {
        "id": "NM1ngjno0tO2"
      }
    },
    {
      "cell_type": "code",
      "source": [
        "import json\n",
        "\n",
        "with open('test_bias_specs/bias_specs.json', 'r+') as file:\n",
        "  data = json.load(file)"
      ],
      "metadata": {
        "id": "kQQpMt4g02On"
      },
      "execution_count": null,
      "outputs": []
    },
    {
      "cell_type": "code",
      "source": [
        "def get_words(bias):\n",
        "  t1 = list(bias['social_groups'].items())[0][1]\n",
        "  t2 = list(bias['social_groups'].items())[1][1]\n",
        "  a1 = list(bias['attributes'].items())[0][1]\n",
        "  a2 = list(bias['attributes'].items())[1][1]\n",
        "  return (t1, t2, a1, a2)"
      ],
      "metadata": {
        "id": "j8V5sc9_2uWW"
      },
      "execution_count": null,
      "outputs": []
    },
    {
      "cell_type": "code",
      "source": [
        "def get_names(bias):\n",
        "  t1 = list(bias['social_groups'].items())[0][0]\n",
        "  t2 = list(bias['social_groups'].items())[1][0]\n",
        "  a1 = list(bias['attributes'].items())[0][0]\n",
        "  a2 = list(bias['attributes'].items())[1][0]\n",
        "  return (t1, t2, a1, a2)"
      ],
      "metadata": {
        "id": "xAfAHrdl3gGp"
      },
      "execution_count": null,
      "outputs": []
    },
    {
      "cell_type": "code",
      "source": [
        "def generate_similar(words, topn=10):\n",
        "  words = [w.replace(\" \", \"_\") for w in words]\n",
        "  words = [w.replace(\"-\", \"_\") for w in words]\n",
        "  while True:\n",
        "    try:\n",
        "      similar = w2v_model.most_similar(words, topn=topn)\n",
        "      similar_words = [x[0].replace(\"_\", \" \") for x in similar] # replace underscores with spaces\n",
        "      return similar_words\n",
        "    except KeyError as e:\n",
        "      print(e)\n",
        "      words.remove(str(e).split(\"'\")[1])"
      ],
      "metadata": {
        "id": "w9lilEZM23Xo"
      },
      "execution_count": null,
      "outputs": []
    },
    {
      "cell_type": "code",
      "source": [
        "with open('similar_glove.txt', 'w') as f:\n",
        "  for i in range(0, len(data)):\n",
        "    bias = data[i]\n",
        "    f.write(\"------\\n\")\n",
        "    f.write(bias[\"name\"] + \"\\n\")\n",
        "    (t1, t2, a1, a2) = get_words(bias)\n",
        "    (t1_name, t2_name, a1_name, a2_name) = get_names(bias)\n",
        "    f.write('\"social_groups_glove\": {\\n')\n",
        "\n",
        "    t1_sim = generate_similar(t1)\n",
        "    f.write(f'\\t\"{t1_name}\": ' + json.dumps(t1_sim) +\",\\n\")\n",
        "    del t1, t1_sim, t1_name\n",
        "\n",
        "    t2_sim = generate_similar(t2)\n",
        "    f.write(f'\\t\"{t2_name}\": ' + json.dumps(t2_sim) + \"\\n},\\n\")\n",
        "    del t2, t2_sim, t2_name\n",
        "\n",
        "    f.write('\"attributes_glove\": {\\n')\n",
        "\n",
        "    a1_sim = generate_similar(a1)\n",
        "    f.write(f'\\t\"{a1_name}\": ' + json.dumps(a1_sim) +\",\\n\")\n",
        "    del a1, a1_sim, a1_name\n",
        "\n",
        "    a2_sim = generate_similar(a2)\n",
        "    f.write(f'\\t\"{a2_name}\": ' + json.dumps(a2_sim) + \"\\n}\\n\")\n",
        "    del a2, a2_sim, a2_name\n",
        "\n",
        "    gc.collect()\n"
      ],
      "metadata": {
        "colab": {
          "base_uri": "https://localhost:8080/"
        },
        "id": "zXLdzxBiQ_c6",
        "outputId": "b6411289-df3b-4653-b487-99b600467074"
      },
      "execution_count": null,
      "outputs": [
        {
          "output_type": "stream",
          "name": "stdout",
          "text": [
            "\"word 'Everol' not in vocabulary\"\n",
            "\"word 'Teretha' not in vocabulary\"\n",
            "\"word 'Shavonn' not in vocabulary\"\n",
            "\"word 'short_term' not in vocabulary\"\n",
            "\"word 'steel_worker' not in vocabulary\"\n",
            "\"word 'mobile_equipment_mechanic' not in vocabulary\"\n",
            "\"word 'bus_mechanic' not in vocabulary\"\n",
            "\"word 'service_technician' not in vocabulary\"\n",
            "\"word 'heating_mechanic' not in vocabulary\"\n",
            "\"word 'electrical_installer' not in vocabulary\"\n",
            "\"word 'operating_engineer' not in vocabulary\"\n",
            "\"word 'logging_worker' not in vocabulary\"\n",
            "\"word 'floor_installer' not in vocabulary\"\n",
            "\"word 'mining_machine_operator' not in vocabulary\"\n",
            "\"word 'security_system_installer' not in vocabulary\"\n",
            "\"word 'kindergarten_teacher' not in vocabulary\"\n",
            "\"word 'speech_language_pathologist' not in vocabulary\"\n",
            "\"word 'dental_assistant' not in vocabulary\"\n",
            "\"word 'childcare_worker' not in vocabulary\"\n",
            "\"word 'medical_records_technician' not in vocabulary\"\n",
            "\"word 'medical_assistant' not in vocabulary\"\n",
            "\"word 'vocational_nurse' not in vocabulary\"\n",
            "\"word 'teacher_assistant' not in vocabulary\"\n",
            "\"word 'billing_clerk' not in vocabulary\"\n",
            "\"word 'health_aide' not in vocabulary\"\n",
            "\"word 'bigbutt' not in vocabulary\"\n",
            "\"word 'darkskinned' not in vocabulary\"\n",
            "\"word 'bigbutt' not in vocabulary\"\n",
            "\"word 'darkskinned' not in vocabulary\"\n",
            "\"word 'darkskinned' not in vocabulary\"\n"
          ]
        }
      ]
    },
    {
      "cell_type": "code",
      "source": [
        "with open('similar_glove.txt', 'r') as f:\n",
        "  for line in f:\n",
        "    print(line, end='')"
      ],
      "metadata": {
        "colab": {
          "base_uri": "https://localhost:8080/"
        },
        "id": "gT8MQmXLdUJM",
        "outputId": "8eca684b-76c4-4d36-c890-695eb88a7b00"
      },
      "execution_count": 107,
      "outputs": [
        {
          "output_type": "stream",
          "name": "stdout",
          "text": [
            "------\n",
            "Math_Arts_vs_Male_Female\n",
            "\"social_groups_glove\": {\n",
            "\t\"Male_terms\": [\"father\", \"nephew\", \"uncle\", \"teenager\", \"younger brother\", \"stepfather\", \"dad\", \"youngster\", \"girl\", \"stepson\"],\n",
            "\t\"Female_terms\": [\"mother\", \"niece\", \"grandmother\", \"herself\", \"aunt\", \"stepdaughter\", \"teenage girl\", \"granddaughter\", \"eldest daughter\", \"husband\"]\n",
            "},\n",
            "\"attributes_glove\": {\n",
            "\t\"Math\": [\"mathematics\", \"algebra trigonometry\", \"linear equations\", \"calculus trigonometry\", \"algebraic equations\", \"quadratic equations\", \"algebra equations\", \"geometry trigonometry\", \"trigonometry\", \"multivariable calculus\"],\n",
            "\t\"Arts\": [\"poems\", \"prose poetry\", \"fiction nonfiction poetry\", \"poem\", \"Lanky brooding Superman\", \"visual arts\", \"literary\", \"LeDray\", \"performative aspect\", \"Poetry\"]\n",
            "}\n",
            "------\n",
            "Science_Arts_vs_Male_Female\n",
            "\"social_groups_glove\": {\n",
            "\t\"Male_terms\": [\"nephew\", \"dad\", \"younger brother\", \"grandson\", \"stepfather\", \"cousin\", \"eldest son\", \"mother\", \"stepson\", \"daughter\"],\n",
            "\t\"Female_terms\": [\"niece\", \"granddaughter\", \"eldest daughter\", \"husband\", \"stepdaughter\", \"maternal grandmother\", \"mom\", \"wife\", \"daughters\", \"stepmother\"]\n",
            "},\n",
            "\"attributes_glove\": {\n",
            "\t\"Science\": [\"astrophysics\", \"Particle physics\", \"particle astrophysics\", \"nanomechanics\", \"theoretical astrophysics\", \"observational astronomy\", \"physics astronomy\", \"physicists\", \"physics astrophysics\", \"particle physics\"],\n",
            "\t\"Arts\": [\"poems\", \"literary\", \"Elizabethan Age\", \"Shakespeare sonnets\", \"playwriting\", \"fiction nonfiction poetry\", \"playwrighting\", \"opera\", \"prose poetry\", \"playwright\"]\n",
            "}\n",
            "------\n",
            "Flowers_Insects_vs_Pleasant_Unpleasant\n",
            "\"social_groups_glove\": {\n",
            "\t\"Flowers\": [\"honeysuckles\", \"hydrangea\", \"alyssum\", \"flower\", \"fritillaria\", \"sweet alyssum\", \"Goldsturm\", \"bottlebrush\", \"yellow flowered\", \"coneflowers\"],\n",
            "\t\"Insects\": [\"insect\", \"insects\", \"wasps\", \"ants\", \"beetles\", \"toad\", \"caterpillars\", \"daddy longlegs\", \"yellowjacket\", \"preying mantis\"]\n",
            "},\n",
            "\"attributes_glove\": {\n",
            "\t\"Pleasant_terms\": [\"safe Deche\", \"unconditional Cam Newton\", \"unlovable moments\", \"indescribable joy\", \"nicest nicest\", \"safe Arlene Deche\", \"Alyrio\", \"Natasha Richardson mourned\", \"sanctuary DellaBianca\", \"loving\"],\n",
            "\t\"Unpleasant_terms\": [\"precedent Kasdan\", \"unimaginably horrible\", \"Mohamed Kajouji\", \"mindless thuggery\", \"Study Homosexuality celibacy\", \"Geraldine Schapira\", \"Telling Sallis\", \"Marital bliss\", \"inconsolable grief\", \"aunt Lorraine Kelsch\"]\n",
            "}\n",
            "------\n",
            "Instruments_Weapons_vs_Pleasant_Unpleasant\n",
            "\"social_groups_glove\": {\n",
            "\t\"Instruments\": [\"sax\", \"alto saxophone\", \"baritone saxophone\", \"soprano saxophone\", \"alto sax\", \"euphonium\", \"tenor saxophone\", \"classical guitar\", \"vibraphone\", \"baritone sax\"],\n",
            "\t\"Weapons\": [\".## magnum revolver\", \"weapon\", \"chrome revolver\", \"barreled shotgun\", \"caliber semiautomatic pistol\", \"derringer pistol\", \"double barreled shotgun\", \"hangun\", \"handgun\", \"hammer cocked\"]\n",
            "},\n",
            "\"attributes_glove\": {\n",
            "\t\"Pleasant_terms\": [\"safe Deche\", \"unconditional Cam Newton\", \"unlovable moments\", \"indescribable joy\", \"nicest nicest\", \"safe Arlene Deche\", \"Alyrio\", \"Natasha Richardson mourned\", \"sanctuary DellaBianca\", \"loving\"],\n",
            "\t\"Unpleasant_terms\": [\"precedent Kasdan\", \"unimaginably horrible\", \"Mohamed Kajouji\", \"mindless thuggery\", \"Study Homosexuality celibacy\", \"Geraldine Schapira\", \"Telling Sallis\", \"Marital bliss\", \"inconsolable grief\", \"aunt Lorraine Kelsch\"]\n",
            "}\n",
            "------\n",
            "Eur.-AmericanNames_Afr.-AmericanNames_vs_Pleasant_Unpleasant_1\n",
            "\"social_groups_glove\": {\n",
            "\t\"EA_Names_full\": [\"Julie\", \"Rebecca\", \"Sarah\", \"Melissa\", \"Liz\", \"Alison\", \"Jennifer\", \"Kathryn\", \"Christine\", \"Lisa\"],\n",
            "\t\"AA_Names_full\": [\"Lakeshia\", \"Shaneka\", \"Tyeisha\", \"Tameika\", \"Lakendra\", \"Marquisha\", \"Shalonda\", \"Tamisha\", \"Takeisha\", \"Shemeka\"]\n",
            "},\n",
            "\"attributes_glove\": {\n",
            "\t\"Pleasant_terms\": [\"safe Deche\", \"unconditional Cam Newton\", \"unlovable moments\", \"indescribable joy\", \"nicest nicest\", \"safe Arlene Deche\", \"Alyrio\", \"Natasha Richardson mourned\", \"sanctuary DellaBianca\", \"loving\"],\n",
            "\t\"Unpleasant_terms\": [\"precedent Kasdan\", \"unimaginably horrible\", \"Mohamed Kajouji\", \"mindless thuggery\", \"Study Homosexuality celibacy\", \"Geraldine Schapira\", \"Telling Sallis\", \"Marital bliss\", \"inconsolable grief\", \"aunt Lorraine Kelsch\"]\n",
            "}\n",
            "------\n",
            "Eur.-AmericanNames_Afr.-AmericanNames_vs_Pleasant_Unpleasant_2\n",
            "\"social_groups_glove\": {\n",
            "\t\"EA_Names_full\": [\"Alison\", \"Julie\", \"Heather\", \"Liz\", \"Rebecca\", \"Jennifer\", \"Amanda\", \"Melissa\", \"Christine\", \"Brian\"],\n",
            "\t\"AA_Names_full\": [\"Latrice\", \"Latasha\", \"Shaneka\", \"Shameka\", \"Tyesha\", \"LaTanya\", \"Shalonda\", \"Iesha\", \"Eboni\", \"Deshawn\"]\n",
            "},\n",
            "\"attributes_glove\": {\n",
            "\t\"Pleasant_terms\": [\"safe Deche\", \"unconditional Cam Newton\", \"unlovable moments\", \"indescribable joy\", \"nicest nicest\", \"safe Arlene Deche\", \"Alyrio\", \"Natasha Richardson mourned\", \"sanctuary DellaBianca\", \"loving\"],\n",
            "\t\"Unpleasant_terms\": [\"precedent Kasdan\", \"unimaginably horrible\", \"Mohamed Kajouji\", \"mindless thuggery\", \"Study Homosexuality celibacy\", \"Geraldine Schapira\", \"Telling Sallis\", \"Marital bliss\", \"inconsolable grief\", \"aunt Lorraine Kelsch\"]\n",
            "}\n",
            "------\n",
            "Eur.-AmericanNames_Afr.-AmericanNames_vs_Pleasant_Unpleasant_3\n",
            "\"social_groups_glove\": {\n",
            "\t\"EA_Names_full\": [\"Alison\", \"Julie\", \"Heather\", \"Liz\", \"Rebecca\", \"Jennifer\", \"Amanda\", \"Melissa\", \"Christine\", \"Brian\"],\n",
            "\t\"AA_Names_full\": [\"Latrice\", \"Latasha\", \"Shaneka\", \"Shameka\", \"Tyesha\", \"LaTanya\", \"Shalonda\", \"Iesha\", \"Eboni\", \"Deshawn\"]\n",
            "},\n",
            "\"attributes_glove\": {\n",
            "\t\"Pleasant_terms\": [\"loved\", \"joyful\", \"sheer joy\", \"happiness\", \"indescribable joy\", \"lovely\", \"safe Deche\", \"eternally thankful\", \"fun\", \"Ohmigosh\"],\n",
            "\t\"Unpleasant_terms\": [\"horrendous\", \"dreadful\", \"horrid\", \"hideous\", \"horrific\", \"precedent Kasdan\", \"appalling\", \"atrocious\", \"bad\", \"ghastly\"]\n",
            "}\n",
            "------\n",
            "Career_Family_vs_MaleName_FemaleName\n",
            "\"social_groups_glove\": {\n",
            "\t\"MaleName_terms\": [\"Brian\", \"Mark\", \"Dave\", \"Jim\", \"Chris\", \"Rob\", \"Tom\", \"Tim\", \"Doug\", \"Dan\"],\n",
            "\t\"FemaleName_terms\": [\"Christine\", \"Julie\", \"Denise\", \"Kathryn\", \"Jennifer\", \"Rebecca\", \"Valerie\", \"Liz\", \"Susan\", \"Karen\"]\n",
            "},\n",
            "\"attributes_glove\": {\n",
            "\t\"Career\": [\"PETER PASSI covers\", \"managerial\", \"Like Whitacre Akerson\", \"KPMG Peat Marwick LLP\", \"PrivateBank delivers\", \"secretarial clerical\", \"corporate\", \"LLC www.equityallianceir.com\", \"consulting\", \"Invisor Consulting Silicon Valley\"],\n",
            "\t\"Family\": [\"siblings\", \"grandparents\", \"mother\", \"daughters\", \"daughter\", \"aunt\", \"sons\", \"wife\", \"grandchildren\", \"younger siblings\"]\n",
            "}\n",
            "------\n",
            "MentalDisease_PhysicalDisease_vs_Temporary_Permanent\n",
            "\"social_groups_glove\": {\n",
            "\t\"MentalDisease\": [\"depressing\", \"bleak\", \"glum\", \"despondent\", \"grim\", \"dejected\", \"dreary\", \"morose\", \"lonely\", \"forlorn\"],\n",
            "\t\"PhysicalDisease\": [\"infection\", \"flu\", \"H#N# virus\", \"flu virus\", \"pneumonia\", \"H#N#\", \"swine flu\", \"meningococcal disease\", \"illnesses\", \"tuberculosis\"]\n",
            "},\n",
            "\"attributes_glove\": {\n",
            "\t\"Temporary\": [\"ephemeral\", \"transitory\", \"intermittent\", \"momentary\", \"infrequent\", \"briefest\", \"unpredictable\", \"evanescent\", \"dramatically Ruffo curious\", \"purely instinctual\"],\n",
            "\t\"Permanent\": [\"continual\", \"continuous\", \"perpetual\", \"unending\", \"unrelenting\", \"long\", \"relentless\", \"steady\", \"frequent\", \"anxiety sleeplessness\"]\n",
            "}\n",
            "------\n",
            "YoungName_OldName_vs_Pleasant_Unpleasant\n",
            "\"social_groups_glove\": {\n",
            "\t\"YoungName\": [\"Melissa\", \"Stephanie\", \"Amanda\", \"Jennifer\", \"Jody\", \"Julie\", \"Lisa\", \"Heather\", \"Amy\", \"Melanie\"],\n",
            "\t\"OldName\": [\"Evelyn\", \"Dorothy\", \"Edith\", \"Mildred\", \"Mabel\", \"Irene\", \"Edna\", \"Eleanor\", \"Margaret\", \"Marjorie\"]\n",
            "},\n",
            "\"attributes_glove\": {\n",
            "\t\"Pleasant_terms\": [\"loved\", \"joyful\", \"sheer joy\", \"happiness\", \"indescribable joy\", \"lovely\", \"safe Deche\", \"eternally thankful\", \"fun\", \"Ohmigosh\"],\n",
            "\t\"Unpleasant_terms\": [\"horrendous\", \"dreadful\", \"horrid\", \"hideous\", \"horrific\", \"precedent Kasdan\", \"appalling\", \"atrocious\", \"bad\", \"ghastly\"]\n",
            "}\n",
            "------\n",
            "Professions_vs_Gender\n",
            "\"social_groups_glove\": {\n",
            "\t\"Male_terms\": [\"nephew\", \"stepfather\", \"mother\", \"daughter\", \"younger brother\", \"cousin\", \"stepson\", \"grandson\", \"grandfather\", \"stepdad\"],\n",
            "\t\"Female_terms\": [\"niece\", \"grandmother\", \"husband\", \"granddaughter\", \"stepdaughter\", \"daughters\", \"eldest daughter\", \"son\", \"fiancee\", \"stepmother\"]\n",
            "},\n",
            "\"attributes_glove\": {\n",
            "\t\"male_professions\": [\"welder\", \"bricklayer\", \"mechanic\", \"drywaller\", \"tradesman\", \"machinist\", \"handyman\", \"stone mason\", \"carpet installer\", \"journeyman carpenter\"],\n",
            "\t\"female_professions\": [\"nurse\", \"beautician\", \"radiology technician\", \"medical transcriptionist\", \"nurse practitioner\", \"respiratory therapist\", \"manicurist\", \"nail technician\", \"cosmetologist\", \"pharmacy technician\"]\n",
            "}\n",
            "------\n",
            "African_Female_European_Male_intersectional\n",
            "\"social_groups_glove\": {\n",
            "\t\"african_female_names\": [\"Latrice\", \"Jasmine\", \"Evette\", \"Latasha\", \"Demetria\", \"Iesha\", \"Shaquana\", \"Alisha\", \"Sharita\", \"Monique\"],\n",
            "\t\"european_male_names\": [\"David\", \"Mark\", \"Richard\", \"Brian\", \"Chris\", \"Steve\", \"Greg\", \"Steven\", \"Rob\", \"Kevin\"]\n",
            "},\n",
            "\"attributes_glove\": {\n",
            "\t\"af_bias\": [\"unladylike\", \"childish immature\", \"selfconscious\", \"overly sexualized\", \"lazy unmotivated\", \"unathletic\", \"wigger\", \"dickish\", \"undateable\", \"priests bullying schoolmasters\"],\n",
            "\t\"em_bias_foraf\": [\"friend Francie Vos\", \"competent debater\", \"irredeemably racist\", \"naively idealistic\", \"horribly horribly deranged\", \"stereotypical\", \"Still Siripat described\", \"undateable\", \"weak Fuilla\", \"bigoted\"]\n",
            "}\n",
            "------\n",
            "African_Female_European_Male_vs_AFemergent_EMintersectional\n",
            "\"social_groups_glove\": {\n",
            "\t\"african_female_names\": [\"Latrice\", \"Jasmine\", \"Evette\", \"Latasha\", \"Demetria\", \"Iesha\", \"Shaquana\", \"Alisha\", \"Sharita\", \"Monique\"],\n",
            "\t\"european_male_names\": [\"David\", \"Mark\", \"Richard\", \"Brian\", \"Chris\", \"Steve\", \"Greg\", \"Steven\", \"Rob\", \"Kevin\"]\n",
            "},\n",
            "\"attributes_glove\": {\n",
            "\t\"af_unique_bias\": [\"timid\", \"agressive\", \"adventurous eater\", \"predictably livid\", \"unladylike\", \"much amazed Trindle\", \"assertive\", \"Phi Kappa Psi Collinsworth\", \"display pliancy\", \"overly sexualized\"],\n",
            "\t\"em_unique_bias_foraf\": [\"egocentric\", \"egotistical\", \"naively idealistic\", \"conceited\", \"cocky\", \"na've\", \"friend Francie Vos\", \"willfully obtuse\", \"priests bullying schoolmasters\", \"cocky arrogant\"]\n",
            "}\n",
            "------\n",
            "Mexican_Female_European_Male_intersectional\n",
            "\"social_groups_glove\": {\n",
            "\t\"mexican_female_names\": [\"Raquel\", \"Claudia\", \"Ana\", \"Marisol\", \"Veronica\", \"Karla\", \"Monica\", \"Mariana\", \"Gisselle\", \"Jaime\"],\n",
            "\t\"european_male_names\": [\"David\", \"Mark\", \"Richard\", \"Brian\", \"Chris\", \"Steve\", \"Greg\", \"Steven\", \"Rob\", \"Kevin\"]\n",
            "},\n",
            "\"attributes_glove\": {\n",
            "\t\"lf_bias\": [\"selfconscious\", \"butchy\", \"goodlooking\", \"trampy\", \"lazy slob\", \"sexy seductress\", \"dumb blondes\", \"selfish inconsiderate\", \"overtly feminine\", \"slutty\"],\n",
            "\t\"em_bias_forlf\": [\"irredeemably racist\", \"bigoted\", \"friend Francie Vos\", \"naively idealistic\", \"horribly horribly deranged\", \"stereotypical\", \"bigot homophobe\", \"cocky arrogant\", \"priests bullying schoolmasters\", \"arrogant condescending\"]\n",
            "}\n",
            "------\n",
            "Mexican_Female_European_Male_vs_MFemergent_EMintersectional\n",
            "\"social_groups_glove\": {\n",
            "\t\"mexican_female_names\": [\"Raquel\", \"Claudia\", \"Ana\", \"Marisol\", \"Veronica\", \"Karla\", \"Monica\", \"Mariana\", \"Gisselle\", \"Jaime\"],\n",
            "\t\"european_male_names\": [\"David\", \"Mark\", \"Richard\", \"Brian\", \"Chris\", \"Steve\", \"Greg\", \"Steven\", \"Rob\", \"Kevin\"]\n",
            "},\n",
            "\"attributes_glove\": {\n",
            "\t\"lf_unique_bias\": [\"sassy\", \"trampy\", \"slutty\", \"saucy\", \"voluptuous\", \"curvacious\", \"demure\", \"playgirl\", \"hoochie mama\", \"butchy\"],\n",
            "\t\"em_unique_bias_forlf\": [\"conceited\", \"cocky\", \"smart\", \"egocentric\", \"strong willed\", \"competent debater\", \"egotistical\", \"pushy\", \"resourceful\", \"personable\"]\n",
            "}\n"
          ]
        }
      ]
    },
    {
      "cell_type": "code",
      "source": [
        "\"\"\"\n",
        "for i in range(0, len(data)):\n",
        "  bias = data[i]\n",
        "  print(\"------\")\n",
        "  print(bias[\"name\"])\n",
        "  (t1, t2, a1, a2) = get_words(bias)\n",
        "  # (t1_name, t2_name, a1_name, a2_name) = get_names(bias)\n",
        "  t1_sim = generate_similar(t1)\n",
        "  print(json.dumps(t1_sim))\n",
        "  del t1\n",
        "  del t1_sim\n",
        "  t2_sim = generate_similar(t2)\n",
        "  print(json.dumps(t2_sim))\n",
        "  del t2\n",
        "  del t2_sim\n",
        "  a1_sim = generate_similar(a1)\n",
        "  print(json.dumps(a1_sim))\n",
        "  del a1\n",
        "  del a1_sim\n",
        "  a2_sim = generate_similar(a2)\n",
        "  print(json.dumps(a2_sim))\n",
        "  del a2\n",
        "  del a2_sim\n",
        "  gc.collect()\n",
        "  \"\"\""
      ],
      "metadata": {
        "colab": {
          "base_uri": "https://localhost:8080/"
        },
        "id": "vUC_2TfkIqU-",
        "outputId": "8aff0a74-112d-429b-a169-be4419bbc618"
      },
      "execution_count": null,
      "outputs": [
        {
          "output_type": "stream",
          "name": "stdout",
          "text": [
            "------\n",
            "Eur.-AmericanNames_Afr.-AmericanNames_vs_Pleasant_Unpleasant_1\n",
            "[\"Rebecca\", \"Julie\", \"Sarah\", \"Melissa\", \"Alison\", \"Liz\", \"Christine\", \"Jennifer\", \"Kathryn\", \"Lisa\"]\n",
            "[\"Lakeshia\", \"Shaneka\", \"Tyeisha\", \"Tameika\", \"Lakendra\", \"Shalonda\", \"Marquisha\", \"Shemeka\", \"Tamisha\", \"Takeisha\"]\n",
            "[\"safe Deche\", \"unconditional Cam Newton\", \"unlovable moments\", \"indescribable joy\", \"nicest nicest\", \"safe Arlene Deche\", \"Alyrio\", \"Natasha Richardson mourned\", \"sanctuary DellaBianca\", \"loving\"]\n",
            "[\"precedent Kasdan\", \"unimaginably horrible\", \"Mohamed Kajouji\", \"mindless thuggery\", \"Study Homosexuality celibacy\", \"Geraldine Schapira\", \"Telling Sallis\", \"Marital bliss\", \"inconsolable grief\", \"aunt Lorraine Kelsch\"]\n",
            "------\n",
            "Eur.-AmericanNames_Afr.-AmericanNames_vs_Pleasant_Unpleasant_2\n",
            "[\"Alison\", \"Julie\", \"Heather\", \"Liz\", \"Rebecca\", \"Jennifer\", \"Amanda\", \"Melissa\", \"Christine\", \"Brian\"]\n",
            "[\"Latrice\", \"Latasha\", \"Shaneka\", \"Shameka\", \"Tyesha\", \"LaTanya\", \"Shalonda\", \"Iesha\", \"Eboni\", \"Deshawn\"]\n",
            "[\"safe Deche\", \"unconditional Cam Newton\", \"unlovable moments\", \"indescribable joy\", \"nicest nicest\", \"safe Arlene Deche\", \"Alyrio\", \"Natasha Richardson mourned\", \"sanctuary DellaBianca\", \"loving\"]\n",
            "[\"precedent Kasdan\", \"unimaginably horrible\", \"Mohamed Kajouji\", \"mindless thuggery\", \"Study Homosexuality celibacy\", \"Geraldine Schapira\", \"Telling Sallis\", \"Marital bliss\", \"inconsolable grief\", \"aunt Lorraine Kelsch\"]\n",
            "------\n",
            "Eur.-AmericanNames_Afr.-AmericanNames_vs_Pleasant_Unpleasant_3\n",
            "[\"Alison\", \"Julie\", \"Heather\", \"Liz\", \"Rebecca\", \"Jennifer\", \"Amanda\", \"Melissa\", \"Christine\", \"Brian\"]\n",
            "[\"Latrice\", \"Latasha\", \"Shaneka\", \"Shameka\", \"Tyesha\", \"LaTanya\", \"Shalonda\", \"Iesha\", \"Eboni\", \"Deshawn\"]\n",
            "[\"loved\", \"joyful\", \"sheer joy\", \"happiness\", \"indescribable joy\", \"lovely\", \"safe Deche\", \"eternally thankful\", \"fun\", \"Ohmigosh\"]\n",
            "[\"horrendous\", \"dreadful\", \"horrid\", \"hideous\", \"horrific\", \"precedent Kasdan\", \"appalling\", \"atrocious\", \"bad\", \"ghastly\"]\n",
            "------\n",
            "Career_Family_vs_MaleName_FemaleName\n",
            "[\"Brian\", \"Mark\", \"Dave\", \"Jim\", \"Chris\", \"Rob\", \"Tom\", \"Tim\", \"Doug\", \"Dan\"]\n",
            "[\"Christine\", \"Julie\", \"Denise\", \"Kathryn\", \"Jennifer\", \"Rebecca\", \"Valerie\", \"Liz\", \"Susan\", \"Karen\"]\n",
            "[\"PETER PASSI covers\", \"managerial\", \"Like Whitacre Akerson\", \"KPMG Peat Marwick LLP\", \"PrivateBank delivers\", \"secretarial clerical\", \"corporate\", \"LLC www.equityallianceir.com\", \"consulting\", \"Invisor Consulting Silicon Valley\"]\n",
            "[\"siblings\", \"grandparents\", \"mother\", \"daughters\", \"daughter\", \"aunt\", \"sons\", \"wife\", \"grandchildren\", \"younger siblings\"]\n",
            "------\n",
            "MentalDisease_PhysicalDisease_vs_Temporary_Permanent\n",
            "[\"depressing\", \"bleak\", \"glum\", \"despondent\", \"grim\", \"dejected\", \"dreary\", \"morose\", \"lonely\", \"forlorn\"]\n",
            "[\"infection\", \"flu\", \"H#N# virus\", \"flu virus\", \"pneumonia\", \"H#N#\", \"swine flu\", \"meningococcal disease\", \"illnesses\", \"tuberculosis\"]\n",
            "[\"ephemeral\", \"transitory\", \"intermittent\", \"momentary\", \"infrequent\", \"briefest\", \"unpredictable\", \"evanescent\", \"dramatically Ruffo curious\", \"purely instinctual\"]\n",
            "[\"continual\", \"continuous\", \"perpetual\", \"unending\", \"unrelenting\", \"long\", \"relentless\", \"steady\", \"frequent\", \"anxiety sleeplessness\"]\n",
            "------\n",
            "YoungName_OldName_vs_Pleasant_Unpleasant\n",
            "[\"Melissa\", \"Stephanie\", \"Amanda\", \"Jennifer\", \"Jody\", \"Julie\", \"Lisa\", \"Heather\", \"Amy\", \"Melanie\"]\n",
            "[\"Evelyn\", \"Dorothy\", \"Edith\", \"Mildred\", \"Mabel\", \"Irene\", \"Edna\", \"Eleanor\", \"Margaret\", \"Marjorie\"]\n",
            "[\"loved\", \"joyful\", \"sheer joy\", \"happiness\", \"indescribable joy\", \"lovely\", \"safe Deche\", \"eternally thankful\", \"fun\", \"Ohmigosh\"]\n",
            "[\"horrendous\", \"dreadful\", \"horrid\", \"hideous\", \"horrific\", \"precedent Kasdan\", \"appalling\", \"atrocious\", \"bad\", \"ghastly\"]\n",
            "------\n",
            "Professions_vs_Gender\n",
            "[\"nephew\", \"stepfather\", \"mother\", \"daughter\", \"younger brother\", \"cousin\", \"stepson\", \"grandson\", \"grandfather\", \"stepdad\"]\n",
            "[\"niece\", \"grandmother\", \"husband\", \"granddaughter\", \"stepdaughter\", \"daughters\", \"eldest daughter\", \"son\", \"fiancee\", \"stepmother\"]\n",
            "\"word 'steel_worker' not in vocabulary\"\n",
            "\"word 'mobile_equipment_mechanic' not in vocabulary\"\n",
            "\"word 'bus_mechanic' not in vocabulary\"\n",
            "\"word 'service_technician' not in vocabulary\"\n",
            "\"word 'heating_mechanic' not in vocabulary\"\n",
            "\"word 'electrical_installer' not in vocabulary\"\n",
            "\"word 'operating_engineer' not in vocabulary\"\n",
            "\"word 'logging_worker' not in vocabulary\"\n",
            "\"word 'floor_installer' not in vocabulary\"\n",
            "\"word 'mining_machine_operator' not in vocabulary\"\n",
            "\"word 'security_system_installer' not in vocabulary\"\n",
            "[\"welder\", \"bricklayer\", \"mechanic\", \"drywaller\", \"tradesman\", \"machinist\", \"handyman\", \"stone mason\", \"carpet installer\", \"journeyman carpenter\"]\n",
            "\"word 'kindergarten_teacher' not in vocabulary\"\n",
            "\"word 'speech-language_pathologist' not in vocabulary\"\n",
            "\"word 'dental_assistant' not in vocabulary\"\n",
            "\"word 'childcare_worker' not in vocabulary\"\n",
            "\"word 'medical_records_technician' not in vocabulary\"\n",
            "\"word 'medical_assistant' not in vocabulary\"\n",
            "\"word 'vocational_nurse' not in vocabulary\"\n",
            "\"word 'teacher_assistant' not in vocabulary\"\n",
            "\"word 'billing_clerk' not in vocabulary\"\n",
            "\"word 'health_aide' not in vocabulary\"\n",
            "[\"nurse\", \"beautician\", \"radiology technician\", \"medical transcriptionist\", \"nurse practitioner\", \"respiratory therapist\", \"manicurist\", \"nail technician\", \"cosmetologist\", \"pharmacy technician\"]\n",
            "------\n",
            "African_Female_European_Male_intersectional\n",
            "[\"Latrice\", \"Jasmine\", \"Evette\", \"Latasha\", \"Demetria\", \"Iesha\", \"Shaquana\", \"Alisha\", \"Sharita\", \"Monique\"]\n",
            "[\"David\", \"Mark\", \"Richard\", \"Brian\", \"Chris\", \"Steve\", \"Greg\", \"Steven\", \"Rob\", \"Kevin\"]\n",
            "\"word 'bigbutt' not in vocabulary\"\n",
            "\"word 'darkskinned' not in vocabulary\"\n",
            "[\"unladylike\", \"childish immature\", \"selfconscious\", \"overly sexualized\", \"lazy unmotivated\", \"unathletic\", \"wigger\", \"dickish\", \"undateable\", \"priests bullying schoolmasters\"]\n",
            "[\"friend Francie Vos\", \"competent debater\", \"irredeemably racist\", \"naively idealistic\", \"horribly horribly deranged\", \"stereotypical\", \"Still Siripat described\", \"undateable\", \"weak Fuilla\", \"bigoted\"]\n",
            "------\n",
            "African_Female_European_Male_vs_AFemergent_EMintersectional\n",
            "[\"Latrice\", \"Jasmine\", \"Evette\", \"Latasha\", \"Demetria\", \"Iesha\", \"Shaquana\", \"Alisha\", \"Sharita\", \"Monique\"]\n",
            "[\"David\", \"Mark\", \"Richard\", \"Brian\", \"Chris\", \"Steve\", \"Greg\", \"Steven\", \"Rob\", \"Kevin\"]\n",
            "\"word 'bigbutt' not in vocabulary\"\n",
            "\"word 'darkskinned' not in vocabulary\"\n",
            "[\"timid\", \"agressive\", \"adventurous eater\", \"predictably livid\", \"unladylike\", \"much amazed Trindle\", \"assertive\", \"Phi Kappa Psi Collinsworth\", \"display pliancy\", \"overly sexualized\"]\n",
            "[\"egocentric\", \"egotistical\", \"naively idealistic\", \"conceited\", \"cocky\", \"na've\", \"friend Francie Vos\", \"willfully obtuse\", \"priests bullying schoolmasters\", \"cocky arrogant\"]\n",
            "------\n",
            "Mexican_Female_European_Male_intersectional\n",
            "[\"Raquel\", \"Claudia\", \"Ana\", \"Marisol\", \"Veronica\", \"Karla\", \"Monica\", \"Mariana\", \"Gisselle\", \"Jaime\"]\n",
            "[\"David\", \"Mark\", \"Richard\", \"Brian\", \"Chris\", \"Steve\", \"Greg\", \"Steven\", \"Rob\", \"Kevin\"]\n",
            "\"word 'darkskinned' not in vocabulary\"\n",
            "[\"selfconscious\", \"butchy\", \"goodlooking\", \"trampy\", \"lazy slob\", \"sexy seductress\", \"dumb blondes\", \"selfish inconsiderate\", \"overtly feminine\", \"slutty\"]\n",
            "[\"irredeemably racist\", \"bigoted\", \"friend Francie Vos\", \"naively idealistic\", \"horribly horribly deranged\", \"stereotypical\", \"bigot homophobe\", \"cocky arrogant\", \"priests bullying schoolmasters\", \"arrogant condescending\"]\n",
            "------\n",
            "Mexican_Female_European_Male_vs_MFemergent_EMintersectional\n",
            "[\"Raquel\", \"Claudia\", \"Ana\", \"Marisol\", \"Veronica\", \"Karla\", \"Monica\", \"Mariana\", \"Gisselle\", \"Jaime\"]\n",
            "[\"David\", \"Mark\", \"Richard\", \"Brian\", \"Chris\", \"Steve\", \"Greg\", \"Steven\", \"Rob\", \"Kevin\"]\n",
            "[\"sassy\", \"trampy\", \"slutty\", \"saucy\", \"voluptuous\", \"curvacious\", \"demure\", \"playgirl\", \"hoochie mama\", \"butchy\"]\n",
            "[\"conceited\", \"cocky\", \"smart\", \"egocentric\", \"strong willed\", \"competent debater\", \"egotistical\", \"pushy\", \"resourceful\", \"personable\"]\n"
          ]
        }
      ]
    }
  ]
}